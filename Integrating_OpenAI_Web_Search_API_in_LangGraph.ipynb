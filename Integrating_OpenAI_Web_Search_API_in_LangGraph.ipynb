{
  "nbformat": 4,
  "nbformat_minor": 0,
  "metadata": {
    "colab": {
      "provenance": []
    },
    "kernelspec": {
      "name": "python3",
      "display_name": "Python 3"
    },
    "language_info": {
      "name": "python"
    }
  },
  "cells": [
    {
      "cell_type": "markdown",
      "source": [
        "## Detailed article explaination\n",
        "The detailed code explanation for this article is available at the following link:\n",
        "\n",
        "https://www.daniweb.com/programming/computer-science/tutorials/543349/integrating-openai-web-search-api-in-langgraph\n",
        "\n",
        "For my other articles for Daniweb.com, please see this link:\n",
        "\n",
        "https://www.daniweb.com/members/1235222/usmanmalik57"
      ],
      "metadata": {
        "id": "6eLYfimLoyjH"
      }
    },
    {
      "cell_type": "markdown",
      "source": [
        "## Importing and Installing Required Libraries"
      ],
      "metadata": {
        "id": "1OIvZrFjuI6C"
      }
    },
    {
      "cell_type": "code",
      "source": [
        "# !sudo apt-get update\n",
        "# !sudo apt-get install -y graphviz libgraphviz-dev"
      ],
      "metadata": {
        "id": "TQFd4ce4ysN1"
      },
      "execution_count": null,
      "outputs": []
    },
    {
      "cell_type": "code",
      "source": [
        "!pip install -U -q \\\n",
        "langgraph langchain-openai langchain-core \\\n",
        "openai pydantic graphviz pygraphviz\n"
      ],
      "metadata": {
        "id": "_-T5MjGbpumJ"
      },
      "execution_count": null,
      "outputs": []
    },
    {
      "cell_type": "code",
      "source": [
        "from typing_extensions import TypedDict\n",
        "from langchain_openai import ChatOpenAI\n",
        "from IPython.display import Image, display\n",
        "from langgraph.graph import StateGraph, START\n",
        "from langgraph.checkpoint.memory import InMemorySaver\n",
        "from langgraph.store.memory import InMemoryStore\n",
        "from langchain_core.messages import AIMessage, HumanMessage\n",
        "from google.colab import userdata"
      ],
      "metadata": {
        "id": "Jt8qh9WxphAS"
      },
      "execution_count": null,
      "outputs": []
    },
    {
      "cell_type": "markdown",
      "source": [
        "## Binding the Web Search Tool to an LLM"
      ],
      "metadata": {
        "id": "FKl8JXUUuNcK"
      }
    },
    {
      "cell_type": "code",
      "source": [
        "OPENAI_API_KEY = userdata.get('OPENAI_API_KEY')\n",
        "\n",
        "search_tool = {\"type\": \"web_search_preview\"}\n",
        "llm_base    = ChatOpenAI(\n",
        "    model=\"gpt-4o-mini\",\n",
        "    openai_api_key = OPENAI_API_KEY,\n",
        "    temperature=0,\n",
        "    use_responses_api=True\n",
        ")\n",
        "llm = llm_base.bind_tools([search_tool])"
      ],
      "metadata": {
        "id": "8VWvoIdxp6ex"
      },
      "execution_count": null,
      "outputs": []
    },
    {
      "cell_type": "markdown",
      "source": [
        "## Creating a LangGraph Graph Using the Web Search Tool"
      ],
      "metadata": {
        "id": "VhpJftTwuc0m"
      }
    },
    {
      "cell_type": "code",
      "source": [
        "class WebState(TypedDict):\n",
        "    input: str\n",
        "    ai_msg: AIMessage\n",
        "    output: str\n",
        "\n",
        "def ask_web(state: WebState) -> WebState:       # State -> Partial\n",
        "    msg = llm.invoke(state[\"input\"])            # tool call happens automatically\n",
        "    return {\"ai_msg\": msg}\n",
        "\n",
        "def respond(state: WebState) -> WebState:\n",
        "    return {\"output\": state[\"ai_msg\"].content}"
      ],
      "metadata": {
        "id": "-KQGYykJp64A"
      },
      "execution_count": null,
      "outputs": []
    },
    {
      "cell_type": "code",
      "source": [
        "builder = StateGraph(state_schema=WebState)\n",
        "builder.add_node(\"ask_web\", ask_web)\n",
        "builder.add_node(\"respond\", respond)\n",
        "\n",
        "builder.add_edge(START, \"ask_web\")              # start → first node\n",
        "builder.add_edge(\"ask_web\", \"respond\")          # ask_web → respond\n",
        "\n",
        "# entry & finish points\n",
        "builder.set_entry_point(\"ask_web\")\n",
        "builder.set_finish_point(\"respond\")\n",
        "\n",
        "graph = builder.compile()\n",
        "\n",
        "\n",
        "png_bytes = graph.get_graph().draw_png()   # raw binary\n",
        "display(Image(data=png_bytes, format=\"png\"))"
      ],
      "metadata": {
        "id": "rKmkep3-rkq1",
        "colab": {
          "base_uri": "https://localhost:8080/",
          "height": 508
        },
        "outputId": "e4555fdf-133e-42df-b6b8-c67bd5f94fd3"
      },
      "execution_count": null,
      "outputs": [
        {
          "output_type": "display_data",
          "data": {
            "image/png": "[encoded data removed]",
            "text/plain": [
              "<IPython.core.display.Image object>"
            ]
          },
          "metadata": {}
        }
      ]
    },
    {
      "cell_type": "markdown",
      "source": [
        "## Searching the Web"
      ],
      "metadata": {
        "id": "6IMc9XOu45dK"
      }
    },
    {
      "cell_type": "code",
      "source": [
        "res = graph.invoke({\"input\": \"What is the temperature today in Paris? What is the todays date?\"})\n",
        "print(res['output'][0]['text'])"
      ],
      "metadata": {
        "colab": {
          "base_uri": "https://localhost:8080/"
        },
        "id": "9D9ubE_WrmFL",
        "outputId": "e59ce68f-a8e2-4831-96c4-2fd9875e501c"
      },
      "execution_count": null,
      "outputs": [
        {
          "output_type": "stream",
          "name": "stdout",
          "text": [
            "As of now, the current time in Paris is 2:50 PM on Thursday, May 8, 2025.\n",
            "\n",
            "8 mai 2025, 14:50:42\n",
            "\n",
            "The current temperature in Paris is 62°F (17°C), with cloudy conditions.\n",
            "\n",
            "## Météo à Paris, Ville de Paris, France :\n",
            "Conditions actuelles : Nuageux, 62°F (17°C)\n",
            "\n",
            "Prévisions par jour :\n",
            "* jeudi, mai 8 : Minimale : 49°F (9°C), Maximale : 66°F (19°C), Description : En partie ensoleillé\n",
            "* vendredi, mai 9 : Minimale : 50°F (10°C), Maximale : 68°F (20°C), Description : Plutôt nuageux\n",
            "* samedi, mai 10 : Minimale : 55°F (13°C), Maximale : 75°F (24°C), Description : Plutôt ensoleillé et agréable\n",
            "* dimanche, mai 11 : Minimale : 56°F (13°C), Maximale : 77°F (25°C), Description : Soleil et nuages épars, très chaud et agréable\n",
            "* lundi, mai 12 : Minimale : 54°F (12°C), Maximale : 71°F (22°C), Description : Nuageux, quelques averses\n",
            "* mardi, mai 13 : Minimale : 53°F (12°C), Maximale : 72°F (22°C), Description : Un peu de soleil, averses l'après-midi\n",
            "* mercredi, mai 14 : Minimale : 53°F (12°C), Maximale : 74°F (24°C), Description : En partie ensoleillé et chaud\n",
            " \n"
          ]
        }
      ]
    },
    {
      "cell_type": "code",
      "source": [
        "res = graph.invoke({\"input\": \"Who won the champions leage game last night?\"})\n",
        "print(res['output'][0]['text'])"
      ],
      "metadata": {
        "colab": {
          "base_uri": "https://localhost:8080/"
        },
        "id": "XJAfRDsT3_92",
        "outputId": "55e08cce-844c-4fde-8688-77dea4a92d92"
      },
      "execution_count": null,
      "outputs": [
        {
          "output_type": "stream",
          "name": "stdout",
          "text": [
            "On May 7, 2025, two UEFA Champions League semi-final second-leg matches were played:\n",
            "\n",
            "**Paris Saint-Germain vs. Arsenal**: Paris Saint-Germain secured a 2-1 victory over Arsenal, advancing to the final with a 3-1 aggregate score. Fabián opened the scoring in the 27th minute, and Achraf Hakimi extended the lead in the 72nd minute. Arsenal's Bukayo Saka scored in the 75th minute, but it wasn't enough to overturn the deficit. PSG's goalkeeper, Gianluigi Donnarumma, made crucial saves, particularly denying Saka late in the game. ([elpais.com](https://elpais.com/deportes/futbol/2025-05-07/psg-arsenal-en-directo-el-partido-de-vuelta-de-las-semifinales-de-la-champions-league-en-vivo.html?utm_source=openai))\n",
            "\n",
            "**Inter Milan vs. FC Barcelona**: Inter Milan triumphed 4-3 over FC Barcelona, progressing to their eighth Champions League final with a 4-3 aggregate score. Despite Barcelona leading 3-2 in the 90th minute, Inter's Francesco Acerbi scored an equalizer in stoppage time, and Davide Frattesi netted the decisive goal in the 99th minute of extra time. Frattesi's goal was particularly dramatic, as he nearly fainted from the adrenaline rush during his celebration. ([cadenaser.com](https://cadenaser.com/nacional/2025/05/07/lo-veia-todo-negro-casi-me-desmayo-frattesi-explica-que-su-celebracion-del-4-3-estuvo-a-punto-de-pasarle-factura-cadena-ser/?utm_source=openai))\n",
            "\n",
            "These results set up a final between Paris Saint-Germain and Inter Milan, scheduled for May 31, 2025, at the Allianz Arena in Munich. ([en.wikipedia.org](https://en.wikipedia.org/wiki/2025_UEFA_Champions_League_final?utm_source=openai))\n",
            "\n",
            "\n",
            "## Champions League Semi-Final Highlights:\n",
            "- [PSG see off Arsenal to earn second shot at Champions League title](https://www.reuters.com/sports/soccer/psg-see-off-arsenal-earn-second-shot-champions-league-title-2025-05-07/?utm_source=openai)\n",
            "- [Así le hemos contado la victoria del PSG ante el Arsenal en la vuelta de la semifinal de la Champions League](https://elpais.com/deportes/futbol/2025-05-07/psg-arsenal-en-directo-el-partido-de-vuelta-de-las-semifinales-de-la-champions-league-en-vivo.html?utm_source=openai)\n",
            "- [\"Lo veía todo negro... ¡casi me desmayo!\": Frattesi explica que su celebración del 4-3 estuvo a punto de pasarle factura](https://cadenaser.com/nacional/2025/05/07/lo-veia-todo-negro-casi-me-desmayo-frattesi-explica-que-su-celebracion-del-4-3-estuvo-a-punto-de-pasarle-factura-cadena-ser/?utm_source=openai) \n"
          ]
        }
      ]
    },
    {
      "cell_type": "code",
      "source": [
        "sources = [annot['url'] for annot in res['output'][0]['annotations']]\n",
        "sources\n"
      ],
      "metadata": {
        "colab": {
          "base_uri": "https://localhost:8080/"
        },
        "id": "m23S5kU04dPU",
        "outputId": "2ce06ac4-22d5-4fba-c05d-800167c48a9e"
      },
      "execution_count": null,
      "outputs": [
        {
          "output_type": "execute_result",
          "data": {
            "text/plain": [
              "['https://elpais.com/deportes/futbol/2025-05-07/psg-arsenal-en-directo-el-partido-de-vuelta-de-las-semifinales-de-la-champions-league-en-vivo.html?utm_source=openai',\n",
              " 'https://cadenaser.com/nacional/2025/05/07/lo-veia-todo-negro-casi-me-desmayo-frattesi-explica-que-su-celebracion-del-4-3-estuvo-a-punto-de-pasarle-factura-cadena-ser/?utm_source=openai',\n",
              " 'https://en.wikipedia.org/wiki/2025_UEFA_Champions_League_final?utm_source=openai',\n",
              " 'https://www.reuters.com/sports/soccer/psg-see-off-arsenal-earn-second-shot-champions-league-title-2025-05-07/?utm_source=openai',\n",
              " 'https://elpais.com/deportes/futbol/2025-05-07/psg-arsenal-en-directo-el-partido-de-vuelta-de-las-semifinales-de-la-champions-league-en-vivo.html?utm_source=openai',\n",
              " 'https://cadenaser.com/nacional/2025/05/07/lo-veia-todo-negro-casi-me-desmayo-frattesi-explica-que-su-celebracion-del-4-3-estuvo-a-punto-de-pasarle-factura-cadena-ser/?utm_source=openai']"
            ]
          },
          "metadata": {},
          "execution_count": 111
        }
      ]
    },
    {
      "cell_type": "code",
      "source": [],
      "metadata": {
        "id": "tZe3kg-064Ir"
      },
      "execution_count": null,
      "outputs": []
    }
  ]
}